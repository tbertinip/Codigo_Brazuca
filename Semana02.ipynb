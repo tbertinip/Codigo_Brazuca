{
  "nbformat": 4,
  "nbformat_minor": 0,
  "metadata": {
    "colab": {
      "provenance": [],
      "authorship_tag": "ABX9TyPTSJ5Uf5bbDsepyrGA4mf5",
      "include_colab_link": true
    },
    "kernelspec": {
      "name": "python3",
      "display_name": "Python 3"
    },
    "language_info": {
      "name": "python"
    }
  },
  "cells": [
    {
      "cell_type": "markdown",
      "metadata": {
        "id": "view-in-github",
        "colab_type": "text"
      },
      "source": [
        "<a href=\"https://colab.research.google.com/github/tbertinip/Codigo_Brazuca/blob/main/Semana02.ipynb\" target=\"_parent\"><img src=\"https://colab.research.google.com/assets/colab-badge.svg\" alt=\"Open In Colab\"/></a>"
      ]
    },
    {
      "cell_type": "code",
      "source": [
        "# Atividade 01 - Escreva um programa que imprima seu nome e sua cidade natal.\n",
        "print(\"Thiago, Santos-SP\")"
      ],
      "metadata": {
        "id": "Pmybh6P3zW5i",
        "colab": {
          "base_uri": "https://localhost:8080/"
        },
        "outputId": "c756855c-ffc8-47d2-cc9a-ff4a9a632ad6"
      },
      "execution_count": null,
      "outputs": [
        {
          "output_type": "stream",
          "name": "stdout",
          "text": [
            "Thiago, Santos-SP\n"
          ]
        }
      ]
    },
    {
      "cell_type": "code",
      "source": [
        "# Atividade 02 - Crie um programa que pergunte ao usuário seu filme favorito e o ano em que foi lançado, e depois imprima uma mensagem usando essas informações.\n",
        "filme = input(\"Qual é seu filme favorito? \")\n",
        "ano = input(\"Em que ano ele foi lançado? \")\n",
        "\n",
        "print(\"O seu filme favorito \" +filme+ \", foi lançado em \" +ano+ \".\")"
      ],
      "metadata": {
        "id": "XQb-pOczzjxb",
        "colab": {
          "base_uri": "https://localhost:8080/"
        },
        "outputId": "3a5bfccb-7a53-40c9-fc82-c7c72e0835b3"
      },
      "execution_count": null,
      "outputs": [
        {
          "output_type": "stream",
          "name": "stdout",
          "text": [
            "Qual é seu filme favorito? fnaf\n",
            "Em que ano ele foi lançado? 2023\n",
            "O seu filme favorito fnaf, foi lançado em 2023.\n"
          ]
        }
      ]
    },
    {
      "cell_type": "code",
      "source": [
        "# Atividade 03 - Escreva um programa que peça dois números ao usuário e exiba a soma, subtração, multiplicação e divisão deles.\n",
        "\n",
        "a = int(input(\"Insira o primeiro número: \"))\n",
        "b = int(input(\"Insira o segundo número:\"))\n",
        "\n",
        "\n",
        "soma = a + b\n",
        "sub = a - b\n",
        "prod = a * b\n",
        "div = a / b\n",
        "\n",
        "print(\"\\nSoma:\", soma, \"\\nSubtração:\", sub, \"\\nMultiplicação:\", prod, \"\\nDivisão:\", div)"
      ],
      "metadata": {
        "id": "a7ptLoV70wvU",
        "colab": {
          "base_uri": "https://localhost:8080/"
        },
        "outputId": "d54b4e80-549b-4811-fcbb-38e3e6393eab"
      },
      "execution_count": null,
      "outputs": [
        {
          "output_type": "stream",
          "name": "stdout",
          "text": [
            "Insira o primeiro número: 1\n",
            "Insira o segundo número:90\n",
            "\n",
            "Soma: 91 \n",
            "Subtração: -89 \n",
            "Multiplicação: 90 \n",
            "Divisão: 0.011111111111111112\n"
          ]
        }
      ]
    },
    {
      "cell_type": "code",
      "source": [
        "# Atividade 04 - Escreva um programa que peça a temperatura atual e diga se está quente (acima de 30°C), frio (abaixo de 15°C) ou agradável (entre 15°C e 30°C).\n",
        "\n",
        "t = float(input(\"Insira a temperatura atual: \"))\n",
        "\n",
        "if t > 30:\n",
        "    print(\"Está quente.\")\n",
        "\n",
        "elif t < 15:\n",
        "    print(\"Está frio.\")\n",
        "\n",
        "else:\n",
        "    print(\"Está agradável.\")"
      ],
      "metadata": {
        "id": "-Lw_l9i-6LJc",
        "colab": {
          "base_uri": "https://localhost:8080/"
        },
        "outputId": "d57fa3e5-2975-4f20-ce01-2c198c7644e9"
      },
      "execution_count": null,
      "outputs": [
        {
          "output_type": "stream",
          "name": "stdout",
          "text": [
            "Insira a temperatura atual: 14\n",
            "Está frio.\n"
          ]
        }
      ]
    },
    {
      "cell_type": "code",
      "source": [
        "# Atividade 05 - Escreva um programa que conte de 1 a 10 e imprima apenas os números pares.\n",
        "\n",
        "for i in range(1, 11):\n",
        "    if i % 2 == 0:\n",
        "     print(i)\n",
        "\n"
      ],
      "metadata": {
        "id": "NJzWwyKH8qpJ",
        "colab": {
          "base_uri": "https://localhost:8080/"
        },
        "outputId": "94822b31-5962-4626-93f5-bafd7c61b06c"
      },
      "execution_count": null,
      "outputs": [
        {
          "output_type": "stream",
          "name": "stdout",
          "text": [
            "2\n",
            "4\n",
            "6\n",
            "8\n",
            "10\n"
          ]
        }
      ]
    },
    {
      "cell_type": "code",
      "source": [
        "# Atividade 06 - Crie um programa que pergunte ao usuário por números até que ele digite zero e então mostre a soma dos números digitados.\n",
        "\n",
        "soma = 0\n",
        "n = 1\n",
        "\n",
        "while n != 0:\n",
        "    n = float(input(\"Insira os números para serem somados ou 0 para finalizar: \"))\n",
        "    soma += n\n",
        "\n",
        "print(\"A soma dos números digitados é:\", soma)\n"
      ],
      "metadata": {
        "id": "YVIcO9wi_KDz",
        "colab": {
          "base_uri": "https://localhost:8080/"
        },
        "outputId": "26497461-46fd-4805-d1c9-ab252bbfde68"
      },
      "execution_count": null,
      "outputs": [
        {
          "output_type": "stream",
          "name": "stdout",
          "text": [
            "Digite os números para serem somados ou 0 para finalizar: 7\n",
            "Digite os números para serem somados ou 0 para finalizar: 8\n",
            "Digite os números para serem somados ou 0 para finalizar: 9\n",
            "Digite os números para serem somados ou 0 para finalizar: 10\n",
            "Digite os números para serem somados ou 0 para finalizar: 5\n",
            "Digite os números para serem somados ou 0 para finalizar: 7\n",
            "Digite os números para serem somados ou 0 para finalizar: 0\n",
            "A soma dos números digitados é: 46.0\n"
          ]
        }
      ]
    },
    {
      "cell_type": "code",
      "source": [
        "# Atividade 07 - Crie uma lista de compras que permita ao usuário adicionar itens e, em seguida, imprimir a lista completa.\n",
        "\n",
        "lista = []\n",
        "item = \"\"\n",
        "\n",
        "while item != \"fim\":\n",
        "  item = input(\"Digite o item da lista ou 'fim' para finalizar: \")\n",
        "  if item != \"fim\":\n",
        "    lista.append(item)\n",
        "\n",
        "for item in lista:\n",
        " print(\"-\", item)"
      ],
      "metadata": {
        "colab": {
          "base_uri": "https://localhost:8080/"
        },
        "id": "4yr8164dc_3U",
        "outputId": "315d2017-152e-4127-fde0-048ffff74cd0"
      },
      "execution_count": null,
      "outputs": [
        {
          "output_type": "stream",
          "name": "stdout",
          "text": [
            "Digite o item da lista ou 'fim' para finalizar: 1\n",
            "Digite o item da lista ou 'fim' para finalizar: 2\n",
            "Digite o item da lista ou 'fim' para finalizar: 3\n",
            "Digite o item da lista ou 'fim' para finalizar: 4\n",
            "Digite o item da lista ou 'fim' para finalizar: 5\n",
            "Digite o item da lista ou 'fim' para finalizar: 6\n",
            "Digite o item da lista ou 'fim' para finalizar: 7\n",
            "Digite o item da lista ou 'fim' para finalizar: 8\n",
            "Digite o item da lista ou 'fim' para finalizar: 9\n",
            "Digite o item da lista ou 'fim' para finalizar: 10\n",
            "Digite o item da lista ou 'fim' para finalizar: fim\n",
            "- 1\n",
            "- 2\n",
            "- 3\n",
            "- 4\n",
            "- 5\n",
            "- 6\n",
            "- 7\n",
            "- 8\n",
            "- 9\n",
            "- 10\n"
          ]
        }
      ]
    },
    {
      "cell_type": "code",
      "source": [
        "# Atividade 08 - Escreva uma função que receba um número e retorne se ele é par ou ímpar.\n",
        "\n",
        "def par_impar(numero):\n",
        "    if numero % 2 == 0:\n",
        "        print(numero, \"é Par.\")\n",
        "    else:\n",
        "        print(numero, \"é Ímpar.\")\n",
        "\n",
        "par_impar(7)\n",
        "\n"
      ],
      "metadata": {
        "colab": {
          "base_uri": "https://localhost:8080/"
        },
        "id": "LJC-CYDgA90X",
        "outputId": "0a68363a-3685-4f07-c247-8892721b4e75"
      },
      "execution_count": null,
      "outputs": [
        {
          "output_type": "stream",
          "name": "stdout",
          "text": [
            "7 é Ímpar.\n"
          ]
        }
      ]
    },
    {
      "cell_type": "code",
      "source": [
        "# Atividade 09 - Escreva um programa que peça uma frase ao usuário e conte quantas vezes uma letra específica aparece.\n",
        "\n",
        "texto = input(\"Insira a frase: \")\n",
        "l = input(\"Qual letra? \")\n",
        "contador = 0\n",
        "\n",
        "for letra in texto:\n",
        "  if letra.lower() == l.lower():\n",
        "    contador += 1\n",
        "\n",
        "print(f'A letra \"{l}\" aparece {contador} vez(es) na frase.')"
      ],
      "metadata": {
        "colab": {
          "base_uri": "https://localhost:8080/"
        },
        "id": "QNfA4svcBOmd",
        "outputId": "a21b2873-1544-40f2-8b2c-6ada0df94107"
      },
      "execution_count": null,
      "outputs": [
        {
          "output_type": "stream",
          "name": "stdout",
          "text": [
            "Insira a frase: OOoooOO\n",
            "Qual letra? o\n",
            "A letra \"o\" aparece 7 vez(es) na frase.\n"
          ]
        }
      ]
    },
    {
      "cell_type": "code",
      "source": [
        "# Atividade 10 - Crie um programa que encontre e imprima todos os números primos em um intervalo definido pelo usuário.\n",
        "\n",
        "ini = int(input(\"Inicio: \"))\n",
        "fim = int(input(\"Final: \"))\n",
        "\n",
        "def eh_primo(numero):\n",
        " if numero <= 1:\n",
        "  return False\n",
        " for i in range(2, int(numero ** 0.5) + 1):\n",
        "  if numero % i == 0:\n",
        "    return False\n",
        " return True\n",
        "\n",
        "if ini <= fim:\n",
        "  print(f\"Entre {ini} e {fim}, é(são) primo(s):\")\n",
        "  for numero in range(ini, fim+1):\n",
        "    if eh_primo(numero):\n",
        "        print(numero)\n",
        "else:\n",
        "  print(\"Intervalo indevido.\")\n",
        "\n"
      ],
      "metadata": {
        "colab": {
          "base_uri": "https://localhost:8080/"
        },
        "id": "O84uWwPzbeS0",
        "outputId": "911d01f7-2037-43d5-8628-168b3b3233ca"
      },
      "execution_count": null,
      "outputs": [
        {
          "output_type": "stream",
          "name": "stdout",
          "text": [
            "Inicio: 1\n",
            "Final: 10\n",
            "Entre 1 e 10, é(são) primo(s):\n",
            "2\n",
            "3\n",
            "5\n",
            "7\n"
          ]
        }
      ]
    }
  ]
}