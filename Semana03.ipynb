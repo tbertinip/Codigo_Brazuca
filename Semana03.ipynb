{
  "nbformat": 4,
  "nbformat_minor": 0,
  "metadata": {
    "colab": {
      "provenance": [],
      "authorship_tag": "ABX9TyObsRWRVz9MO3pvSHu5YF4K",
      "include_colab_link": true
    },
    "kernelspec": {
      "name": "python3",
      "display_name": "Python 3"
    },
    "language_info": {
      "name": "python"
    }
  },
  "cells": [
    {
      "cell_type": "markdown",
      "metadata": {
        "id": "view-in-github",
        "colab_type": "text"
      },
      "source": [
        "<a href=\"https://colab.research.google.com/github/tbertinip/Codigo_Brazuca/blob/main/Semana03.ipynb\" target=\"_parent\"><img src=\"https://colab.research.google.com/assets/colab-badge.svg\" alt=\"Open In Colab\"/></a>"
      ]
    },
    {
      "cell_type": "code",
      "source": [
        "# Atividade 01 - Calculando o Fatorial\n",
        "\n",
        "def fatorial(n):\n",
        "  resultado = 1\n",
        "  for i in range(2, n + 1):\n",
        "    resultado *= i\n",
        "  return resultado\n",
        "\n",
        "numero = int(input(\"Insira um número: \"))\n",
        "resultado = fatorial(numero)\n",
        "print(f\"{numero}! = {resultado}\")"
      ],
      "metadata": {
        "colab": {
          "base_uri": "https://localhost:8080/"
        },
        "id": "Xq1_zvm62lxh",
        "outputId": "9f3ea881-b6bb-433c-ed24-03a0197b3c16"
      },
      "execution_count": null,
      "outputs": [
        {
          "output_type": "stream",
          "name": "stdout",
          "text": [
            "Insira um número: 5\n",
            "5! = 120\n"
          ]
        }
      ]
    },
    {
      "cell_type": "code",
      "source": [
        "# Atividade 02 - Conversão de Temperaturas\n",
        "\n",
        "def converter(t):\n",
        "  f = t * 9/5 + 32\n",
        "  k = t + 273.15\n",
        "  return f, k\n",
        "\n",
        "temperatura = float(input(\"Insira uma temperatura em Celcius: \"))\n",
        "fahrenheit, kelvin = converter(temperatura)\n",
        "print(f\"{temperatura}°C é equivalente a {fahrenheit}°F e {kelvin}K.\")"
      ],
      "metadata": {
        "colab": {
          "base_uri": "https://localhost:8080/"
        },
        "id": "IeMaA5W_J7Ey",
        "outputId": "43118087-260a-4cdc-9b26-2a69e24a271c"
      },
      "execution_count": null,
      "outputs": [
        {
          "output_type": "stream",
          "name": "stdout",
          "text": [
            "Insira uma temperatura em Celcius: 20\n",
            "20.0°C é equivalente a 68.0°F e 293.15K.\n"
          ]
        }
      ]
    },
    {
      "cell_type": "code",
      "source": [
        "# Atividade 03 - Cálculo de IMC\n",
        "\n",
        "peso = float(input(\"Peso em kg: \"))\n",
        "altura = float(input(\"Altura em m: \"))\n",
        "\n",
        "imc = peso / (altura * altura)\n",
        "print(f\"Seu IMC é: {imc:.2f}\")"
      ],
      "metadata": {
        "colab": {
          "base_uri": "https://localhost:8080/"
        },
        "id": "UA2sfzRsOHX1",
        "outputId": "b0401bd9-75c5-423b-d76e-f6eebdc5e719"
      },
      "execution_count": null,
      "outputs": [
        {
          "output_type": "stream",
          "name": "stdout",
          "text": [
            "Peso em kg: 90\n",
            "Altura em m: 1.90\n",
            "Seu IMC é: 24.93\n"
          ]
        }
      ]
    },
    {
      "cell_type": "code",
      "source": [
        "# Atividade 04 - Verificação de Palíndromo\n",
        "\n",
        "def palindromo(string):\n",
        "\n",
        "  string_invertida = string[::-1]\n",
        "  if string_invertida.lower() == string.lower():\n",
        "    return True\n",
        "  else:\n",
        "    return False\n",
        "\n",
        "palavra = input(\"Digite a palavra para saber se é um palíndromo: \")\n",
        "if palindromo(palavra):\n",
        "  print(f\"A palavra '{palavra}' é um palíndromo.\")\n",
        "else:\n",
        "  print(f\"A palavra '{palavra}' não é um palíndromo.\")\n"
      ],
      "metadata": {
        "colab": {
          "base_uri": "https://localhost:8080/"
        },
        "id": "Sc-nkavhtCPv",
        "outputId": "d152cf7c-01a7-436e-e4c1-bb7a149db88c"
      },
      "execution_count": null,
      "outputs": [
        {
          "output_type": "stream",
          "name": "stdout",
          "text": [
            "Digite a palavra para saber se é um palíndromo: odor\n",
            "A palavra 'odor' não é um palíndromo.\n"
          ]
        }
      ]
    },
    {
      "cell_type": "code",
      "source": [
        "# Atividade 05 - Tabuada\n",
        "\n",
        "def tabuada(n):\n",
        "  for i in range(1,11):\n",
        "    print(n, \"x\", i,\"=\", n * i)\n",
        "\n",
        "numero = int(input(\"Insira o número: \"))\n",
        "tabuada(numero)"
      ],
      "metadata": {
        "colab": {
          "base_uri": "https://localhost:8080/"
        },
        "id": "T1jJTWxGv8iv",
        "outputId": "92a29630-fce8-437c-c57c-c50c3cb4835c"
      },
      "execution_count": null,
      "outputs": [
        {
          "output_type": "stream",
          "name": "stdout",
          "text": [
            "Insira o número: 5\n",
            "5 x 1 = 5\n",
            "5 x 2 = 10\n",
            "5 x 3 = 15\n",
            "5 x 4 = 20\n",
            "5 x 5 = 25\n",
            "5 x 6 = 30\n",
            "5 x 7 = 35\n",
            "5 x 8 = 40\n",
            "5 x 9 = 45\n",
            "5 x 10 = 50\n"
          ]
        }
      ]
    },
    {
      "cell_type": "code",
      "source": [
        "# Atividade 06 - Contagem de Vogais\n",
        "\n",
        "def contagem(texto):\n",
        "  contador = 0\n",
        "  vogais = \"aeiouáéíóúàèìòùãõâêîôû\"\n",
        "  for letra in texto:\n",
        "    if letra.lower() in vogais:\n",
        "     contador += 1\n",
        "  return contador\n",
        "\n",
        "frase = input(\"Digite uma frase: \")\n",
        "print(f\"Nessa frase há {contagem(frase)} vogais.\")"
      ],
      "metadata": {
        "colab": {
          "base_uri": "https://localhost:8080/"
        },
        "id": "UG1UOfjZMLaW",
        "outputId": "f07eeb30-13b4-4092-fc03-a162f7cefc8b"
      },
      "execution_count": null,
      "outputs": [
        {
          "output_type": "stream",
          "name": "stdout",
          "text": [
            "Digite uma frase: Eu gosto de viajar.\n",
            "Nessa frase há 8 vogais.\n"
          ]
        }
      ]
    },
    {
      "cell_type": "code",
      "source": [
        "# Atividade 07 - Média de Notas\n",
        "\n",
        "def media():\n",
        "  notas = []\n",
        "  n = 1\n",
        "  while n != -1:\n",
        "    n = float(input(\"Insira uma nota ou -1 para finalizar: \"))\n",
        "    if n != -1:\n",
        "      notas.append(n)\n",
        "  if len(notas) > 0:\n",
        "    resultado = sum(notas) / len(notas)\n",
        "    return resultado\n",
        "  else:\n",
        "    return 0\n",
        "\n",
        "resultado = media()\n",
        "print(f\"A média das notas é: {resultado:.2f}\")"
      ],
      "metadata": {
        "colab": {
          "base_uri": "https://localhost:8080/"
        },
        "id": "P2tapQiNkODZ",
        "outputId": "7ddd3858-48f6-42ca-d257-2a4221025bc6"
      },
      "execution_count": null,
      "outputs": [
        {
          "output_type": "stream",
          "name": "stdout",
          "text": [
            "Insira uma nota ou -1 para finalizar: 10\n",
            "Insira uma nota ou -1 para finalizar: 9\n",
            "Insira uma nota ou -1 para finalizar: 10\n",
            "Insira uma nota ou -1 para finalizar: -1\n",
            "A média das notas é: 9.67\n"
          ]
        }
      ]
    },
    {
      "cell_type": "code",
      "source": [
        "# Atividade 08 - Sequência de Fibonacci\n",
        "def fibonacci(n):\n",
        "  sequencia = [0, 1]\n",
        "  while len(sequencia) < n:\n",
        "    next = sequencia[-1] + sequencia[-2]\n",
        "    sequencia.append(next)\n",
        "  return sequencia[:n]\n",
        "\n",
        "f = int(input(\"Insira quantos números da sequência de Fibonacci: \"))\n",
        "print(fibonacci(f))"
      ],
      "metadata": {
        "colab": {
          "base_uri": "https://localhost:8080/"
        },
        "id": "2livILvdwKL0",
        "outputId": "fc9465e7-92d7-4a62-9446-92895049cd58"
      },
      "execution_count": null,
      "outputs": [
        {
          "output_type": "stream",
          "name": "stdout",
          "text": [
            "Insira quantos números da sequência de Fibonacci: 10\n",
            "[0, 1, 1, 2, 3, 5, 8, 13, 21, 34]\n"
          ]
        }
      ]
    },
    {
      "cell_type": "code",
      "source": [
        "# Atividade 09 - Ordenação de Números\n",
        "\n",
        "def sort(arr):\n",
        "    a, b, c = arr\n",
        "    if a > b:\n",
        "        a, b = b, a\n",
        "    if a > c:\n",
        "        a, c = c, a\n",
        "    if b > c:\n",
        "        b, c = c, b\n",
        "    return [a, b, c]\n",
        "\n",
        "lista = []\n",
        "for i in range(1, 4):\n",
        "  lista.append(int(input(f\"Insira o número {i}: \")))\n",
        "\n",
        "print(sort(lista))"
      ],
      "metadata": {
        "colab": {
          "base_uri": "https://localhost:8080/"
        },
        "id": "C46ylxEI1DRg",
        "outputId": "233149ff-d154-4914-c29a-c3bb5f3df8f2"
      },
      "execution_count": null,
      "outputs": [
        {
          "output_type": "stream",
          "name": "stdout",
          "text": [
            "Insira o número 1: 7\n",
            "Insira o número 2: 4\n",
            "Insira o número 3: 9\n",
            "[4, 7, 9]\n"
          ]
        }
      ]
    },
    {
      "cell_type": "code",
      "source": [
        "# Atividade 10 - Números Pares e Ímpares\n",
        "\n",
        "def par_impar(n):\n",
        "  if n % 2 == 0:\n",
        "    return True\n",
        "  else:\n",
        "    return False\n",
        "\n",
        "x = int(input(\"Insira um número inteiro: \"))\n",
        "if par_impar(x):\n",
        "  print(x, \"é par.\")\n",
        "else:\n",
        "  print(x, \"é ímpar.\")"
      ],
      "metadata": {
        "colab": {
          "base_uri": "https://localhost:8080/"
        },
        "id": "xCtjdgba9rXN",
        "outputId": "d5eaf590-5180-49b8-cdc3-5f3db675168a"
      },
      "execution_count": null,
      "outputs": [
        {
          "output_type": "stream",
          "name": "stdout",
          "text": [
            "Insira um número inteiro: 5\n",
            "5 é ímpar.\n"
          ]
        }
      ]
    },
    {
      "cell_type": "code",
      "source": [
        "# Atividade 11 - Cálculo de Área de Círculo\n",
        "\n",
        "import math\n",
        "\n",
        "def area(r):\n",
        "  area = math.pi * r**2\n",
        "  return area\n",
        "\n",
        "raio = float(input(\"Insira o raio do círculo: \"))\n",
        "print(f\"A área do círculo com raio {raio} é {area(raio):.2f}\")"
      ],
      "metadata": {
        "colab": {
          "base_uri": "https://localhost:8080/"
        },
        "id": "1XhkqMP_C0oe",
        "outputId": "ea2ce64e-11fc-4adc-c88c-e271f72a6141"
      },
      "execution_count": null,
      "outputs": [
        {
          "output_type": "stream",
          "name": "stdout",
          "text": [
            "Insira o raio do círculo: 5\n",
            "A área do círculo com raio 5.0 é 78.54\n"
          ]
        }
      ]
    },
    {
      "cell_type": "code",
      "source": [
        "# Atividade 12 - Jogo de Adivinhação\n",
        "\n",
        "import random\n",
        "\n",
        "def aleatorizador():\n",
        "  lista = []\n",
        "  for i in range (1, 101):\n",
        "    lista.append(i)\n",
        "  aleatorio = random.choice(lista)\n",
        "  return aleatorio\n",
        "\n",
        "def adiviacao(palpite, numero):\n",
        "  while palpite != numero:\n",
        "      try:\n",
        "        palpite = int(input(\"Insira seu palpite (entre 0 e 100): \"))\n",
        "\n",
        "        if palpite > numero:\n",
        "          print(\"Palpite maior que o número secreto. \\n\")\n",
        "        elif palpite < numero:\n",
        "          print(\"Palpite menor que o número secreto. \\n\")\n",
        "        else:\n",
        "          print(\"Papite correto! \\n\")\n",
        "\n",
        "      except ValueError:\n",
        "        print(\"Insira um palpite válido. \\n\")\n",
        "\n",
        "palpite = 0\n",
        "secreto = aleatorizador()\n",
        "adiviacao(palpite, secreto)"
      ],
      "metadata": {
        "colab": {
          "base_uri": "https://localhost:8080/"
        },
        "id": "_nr1eSjgE0Cf",
        "outputId": "8c9c221a-5ea2-4689-82a1-85ac510f0dd0"
      },
      "execution_count": null,
      "outputs": [
        {
          "output_type": "stream",
          "name": "stdout",
          "text": [
            "Insira seu palpite (entre 0 e 100): 50\n",
            "Palpite maior que o número secreto. \n",
            "\n",
            "Insira seu palpite (entre 0 e 100): 25\n",
            "Palpite maior que o número secreto. \n",
            "\n",
            "Insira seu palpite (entre 0 e 100): 13\n",
            "Palpite menor que o número secreto. \n",
            "\n",
            "Insira seu palpite (entre 0 e 100): 20\n",
            "Palpite maior que o número secreto. \n",
            "\n",
            "Insira seu palpite (entre 0 e 100): 17\n",
            "Palpite menor que o número secreto. \n",
            "\n",
            "Insira seu palpite (entre 0 e 100): 19\n",
            "Palpite maior que o número secreto. \n",
            "\n",
            "Insira seu palpite (entre 0 e 100): 18\n",
            "Papite correto! \n",
            "\n"
          ]
        }
      ]
    },
    {
      "cell_type": "code",
      "source": [
        "# Atividade 13 - Soma de Números Pares\n",
        "\n",
        "soma_par = 0\n",
        "for i in range(1, 101):\n",
        "  if i % 2 == 0:\n",
        "    soma_par += i\n",
        "\n",
        "print(\"Soma dos números pares entre 1 e 100 é\", soma_par)"
      ],
      "metadata": {
        "colab": {
          "base_uri": "https://localhost:8080/"
        },
        "id": "ThP6nEwqMlqe",
        "outputId": "ea475927-acbe-4bd5-9325-b44817328837"
      },
      "execution_count": null,
      "outputs": [
        {
          "output_type": "stream",
          "name": "stdout",
          "text": [
            "Soma dos números pares entre 1 e 100 é 2550\n"
          ]
        }
      ]
    },
    {
      "cell_type": "code",
      "source": [
        "# Atividade 14 - Calculadora Simples\n",
        "\n",
        "def calculadora(a, b, op):\n",
        "  if op == \"+\":\n",
        "    return a + b\n",
        "  if op == \"-\":\n",
        "    return a - b\n",
        "  if op == \"*\":\n",
        "    return a * b\n",
        "  if op == \"/\":\n",
        "    if b != 0:\n",
        "       return a / b\n",
        "    else:\n",
        "      return \"Divisão por zero não permitida.\"\n",
        "  else:\n",
        "    return \"Operação inválida.\"\n",
        "\n",
        "n1 = float(input(\"Insira o primeiro número: \"))\n",
        "operacao = input(\"Insira o operador matemático (+, -, *, /): \")\n",
        "n2 = float(input(\"Insira o segundo número: \"))\n",
        "\n",
        "print(calculadora(n1, n2, operacao))"
      ],
      "metadata": {
        "colab": {
          "base_uri": "https://localhost:8080/"
        },
        "id": "uN54ib3NOvSx",
        "outputId": "2a9fd02c-ec94-4a87-bac7-22b71dd3bddc"
      },
      "execution_count": null,
      "outputs": [
        {
          "output_type": "stream",
          "name": "stdout",
          "text": [
            "Insira o primeiro número: 9\n",
            "Insira o operador matemático (+, -, *, /): /\n",
            "Insira o segundo número: 3\n",
            "3.0\n"
          ]
        }
      ]
    },
    {
      "cell_type": "code",
      "source": [
        "# Ativade 15 - Soma dos N primeiros Números\n",
        "\n",
        "n = int(input(\"Insira um número inteiro positivo: \"))\n",
        "soma = n/2 * (1+n)\n",
        "\n",
        "print(f\"A soma dos primeiros {n} números naturais é {soma:.0f}\")"
      ],
      "metadata": {
        "colab": {
          "base_uri": "https://localhost:8080/"
        },
        "id": "VEgaRLlJUMMu",
        "outputId": "ed661532-dffb-4115-a917-d16532b3816d"
      },
      "execution_count": null,
      "outputs": [
        {
          "output_type": "stream",
          "name": "stdout",
          "text": [
            "Insira um número inteiro positivo: 10\n",
            "A soma dos primeiros 10 números naturais é 55\n"
          ]
        }
      ]
    },
    {
      "cell_type": "code",
      "source": [
        "# Atividade 16 - Inversão de String\n",
        "\n",
        "string = input(\"Digite a string a ser invertida: \")\n",
        "string_invertida = string[::-1]\n",
        "\n",
        "print(\"String invertida:\", string_invertida)"
      ],
      "metadata": {
        "colab": {
          "base_uri": "https://localhost:8080/"
        },
        "id": "ymsVPeJxVWVB",
        "outputId": "3908caf2-78e4-4886-d941-009a80d7b179"
      },
      "execution_count": null,
      "outputs": [
        {
          "output_type": "stream",
          "name": "stdout",
          "text": [
            "Digite a string a ser invertida: Carro\n",
            "String invertida: orraC\n"
          ]
        }
      ]
    },
    {
      "cell_type": "code",
      "source": [
        "# Atividade 17 - Verificação de Número Perfeito\n",
        "\n",
        "def verificador(p):\n",
        "  arr = []\n",
        "  for i in range(1, p):\n",
        "    if p % i == 0:\n",
        "      arr.append(i)\n",
        "  if sum(arr) == p:\n",
        "    return True\n",
        "\n",
        "n = int(input(\"Insira um número: \"))\n",
        "\n",
        "if verificador(n):\n",
        "  print(n, \"é um número perfeito.\")\n",
        "else:\n",
        "  print(n, \"não é um número perfeito.\")"
      ],
      "metadata": {
        "colab": {
          "base_uri": "https://localhost:8080/"
        },
        "id": "1Jwt-WO8Wh04",
        "outputId": "0ddf16e4-8256-4010-fee2-b00ea8e2d384"
      },
      "execution_count": null,
      "outputs": [
        {
          "output_type": "stream",
          "name": "stdout",
          "text": [
            "Insira um número: 6\n",
            "6 é um número perfeito.\n"
          ]
        }
      ]
    },
    {
      "cell_type": "code",
      "source": [
        "# Atividade 18 - Contagem de Palavras\n",
        "\n",
        "frase = input(\"Insira uma frase: \")\n",
        "palavras = frase.split()\n",
        "\n",
        "print(f\"A frase contém {len(palavras)} palavras.\")"
      ],
      "metadata": {
        "colab": {
          "base_uri": "https://localhost:8080/"
        },
        "id": "1dTYAiqUZxQV",
        "outputId": "897ff130-75ea-4c23-bd22-81e395c82adc"
      },
      "execution_count": null,
      "outputs": [
        {
          "output_type": "stream",
          "name": "stdout",
          "text": [
            "Insira uma frase: Eu gosto de corridas e carros\n",
            "A frase contém 6 palavras.\n"
          ]
        }
      ]
    },
    {
      "cell_type": "code",
      "source": [
        "# Atividade 19 - Média Ponderada\n",
        "\n",
        "nota1 = float(input(\"Insira a nota com peso 2: \"))\n",
        "nota2 = float(input(\"Insira a nota com peso 3: \"))\n",
        "nota3 = float(input(\"Insira a nota com peso 5: \"))\n",
        "\n",
        "mediap = (nota1*2 + nota2*3 + nota3*5)/10\n",
        "\n",
        "print(f\"A média ponderada das notas é {mediap}\")\n"
      ],
      "metadata": {
        "colab": {
          "base_uri": "https://localhost:8080/"
        },
        "id": "ijlbbk_rc90e",
        "outputId": "ea5a4a5f-1d21-4f30-cc11-a70b953f37e7"
      },
      "execution_count": null,
      "outputs": [
        {
          "output_type": "stream",
          "name": "stdout",
          "text": [
            "Insira a nota com peso 2: 10\n",
            "Insira a nota com peso 3: 9\n",
            "Insira a nota com peso 5: 7\n",
            "A média ponderada das notas é 8.2\n"
          ]
        }
      ]
    },
    {
      "cell_type": "code",
      "source": [
        "# Atividade 20: Análise de Lista de Números\n",
        "\n",
        "lista = []\n",
        "while True:\n",
        "  try:\n",
        "    n = float(input(\"Insira números ou pressione apenas ENTER para encerrar: \"))\n",
        "    lista.append(n)\n",
        "  except ValueError:\n",
        "    break\n",
        "\n",
        "if lista:\n",
        "  maior = max(lista)\n",
        "  menor = min(lista)\n",
        "  media = sum(lista)/len(lista)\n",
        "\n",
        "  print(f\"\\nO maior número é: {maior}\")\n",
        "  print(f\"O menor número é: {menor}\")\n",
        "  print(f\"A média dos número é: {media:.2f}\")\n",
        "else:\n",
        "  print(\"Nenhum número inserido.\")"
      ],
      "metadata": {
        "colab": {
          "base_uri": "https://localhost:8080/"
        },
        "id": "_q0cpLxFftId",
        "outputId": "493d1652-c2bd-40a9-f341-fd5c058fceb1"
      },
      "execution_count": null,
      "outputs": [
        {
          "output_type": "stream",
          "name": "stdout",
          "text": [
            "Insira números ou pressione apenas ENTER para encerrar: 10\n",
            "Insira números ou pressione apenas ENTER para encerrar: 90\n",
            "Insira números ou pressione apenas ENTER para encerrar: 7\n",
            "Insira números ou pressione apenas ENTER para encerrar: 9\n",
            "Insira números ou pressione apenas ENTER para encerrar: -4\n",
            "Insira números ou pressione apenas ENTER para encerrar: 0\n",
            "Insira números ou pressione apenas ENTER para encerrar: \n",
            "\n",
            "O maior número é: 90.0\n",
            "O menor número é: -4.0\n",
            "A média dos número é: 18.67\n"
          ]
        }
      ]
    }
  ]
}